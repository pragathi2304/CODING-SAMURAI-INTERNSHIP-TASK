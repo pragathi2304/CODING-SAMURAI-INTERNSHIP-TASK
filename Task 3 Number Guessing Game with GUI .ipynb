{
 "cells": [
  {
   "cell_type": "markdown",
   "id": "cf066fe0-97ad-4ec3-9449-5977122e7c2a",
   "metadata": {},
   "source": [
    "#  Number Guessing Game (Tkinter GUI)\n",
    "\n",
    "This project is a simple number guessing game built using the Tkinter library in Python. The program generates a random number between 1 and 100, and the user has to guess it within 10 attempts. After each guess, the program provides real-time feedback and updates the number of remaining attempts.\n",
    "If the user guesses the number correctly, a congratulatory message is displayed using a popup (messagebox). If all attempts are used without guessing the number, a game-over message is shown and the application closes.\n",
    "Features:\n",
    "- Random number generation (random.randint)\n",
    "- User input through Tkinter Entry widget\n",
    "- Conditional logic to check guesses (if-elif-else)\n",
    "- Error handling for non-integer inputs\n",
    "- GUI layout with Label, Entry, and Button widgets\n",
    "- Popup messages for win/loss using messagebox\n",
    "- Attempt counter with dynamic updates"
   ]
  },
  {
   "cell_type": "code",
   "execution_count": 3,
   "id": "78b6d930-fe36-4ebb-82fe-3be3e6e0ac71",
   "metadata": {},
   "outputs": [],
   "source": [
    "import tkinter as tk\n",
    "from tkinter import messagebox\n",
    "import random\n",
    "window = tk.Tk()\n",
    "window.title(\"Number Guessing Game\")\n",
    "window.geometry(\"400x300\")\n",
    "secret_number = random.randint(1, 100)\n",
    "attempts_left = 10  \n",
    "info_label = tk.Label(window, text=\"Guess a number between 1 and 100\")\n",
    "info_label.pack(pady=10)\n",
    "\n",
    "guess_entry = tk.Entry(window)\n",
    "guess_entry.pack(pady=5)\n",
    "\n",
    "result_label = tk.Label(window, text=\"\")\n",
    "result_label.pack(pady=10)\n",
    "def check_guess():\n",
    "    global attempts_left\n",
    "    try:\n",
    "        guess = int(guess_entry.get())\n",
    "    except ValueError:\n",
    "        result_label.config(text=\"Please enter a valid integer.\")\n",
    "        return\n",
    "\n",
    "    if guess < secret_number:\n",
    "        result_label.config(text=\"Too low! Try a higher number.\")\n",
    "    elif guess > secret_number:\n",
    "        result_label.config(text=\"Too high! Try a lower number.\")\n",
    "    else:\n",
    "        messagebox.showinfo(\"Result\", f\"Congratulations! You guessed it right.\\nThe number was {secret_number}\")\n",
    "        window.destroy()\n",
    "        return\n",
    "\n",
    "    attempts_left -= 1\n",
    "    if attempts_left == 0:\n",
    "        messagebox.showinfo(\"Result\", f\"Game Over! You've used all your attempts.\\nThe number was {secret_number}\")\n",
    "        window.destroy()\n",
    "    else:\n",
    "        info_label.config(text=f\"Attempts left: {attempts_left}\")\n",
    "guess_button = tk.Button(window, text=\"Guess\", command=check_guess)\n",
    "guess_button.pack(pady=10)\n",
    "window.mainloop()\n"
   ]
  },
  {
   "cell_type": "code",
   "execution_count": null,
   "id": "67139ce3-4c78-42c7-9621-a0f3ab68c5b6",
   "metadata": {},
   "outputs": [],
   "source": []
  }
 ],
 "metadata": {
  "kernelspec": {
   "display_name": "Python 3 (ipykernel)",
   "language": "python",
   "name": "python3"
  },
  "language_info": {
   "codemirror_mode": {
    "name": "ipython",
    "version": 3
   },
   "file_extension": ".py",
   "mimetype": "text/x-python",
   "name": "python",
   "nbconvert_exporter": "python",
   "pygments_lexer": "ipython3",
   "version": "3.13.5"
  }
 },
 "nbformat": 4,
 "nbformat_minor": 5
}
