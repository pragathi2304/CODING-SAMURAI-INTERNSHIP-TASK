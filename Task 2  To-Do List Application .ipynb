{
 "cells": [
  {
   "cell_type": "markdown",
   "id": "313d96b7-5ac4-4b46-a5c6-6555aa2fa94e",
   "metadata": {},
   "source": [
    "# To-Do List Application \n",
    "This is a simple command-line-based to-do list manager using Python.  \n",
    "Features:\n",
    "- Add, view, and delete tasks\n",
    "- File-based task storage\n"
   ]
  },
  {
   "cell_type": "code",
   "execution_count": 3,
   "id": "63beefac-5e8d-49ee-bfe4-ae1d25e158c8",
   "metadata": {},
   "outputs": [
    {
     "name": "stdout",
     "output_type": "stream",
     "text": [
      "\n",
      "To-Do List Menu:\n",
      "1. Show tasks\n",
      "2. Add task\n",
      "3. Delete task\n",
      "4. Exit\n"
     ]
    },
    {
     "name": "stdin",
     "output_type": "stream",
     "text": [
      "Choose an option (1-4):  1\n"
     ]
    },
    {
     "name": "stdout",
     "output_type": "stream",
     "text": [
      "\n",
      "No tasks found.\n",
      "\n",
      "To-Do List Menu:\n",
      "1. Show tasks\n",
      "2. Add task\n",
      "3. Delete task\n",
      "4. Exit\n"
     ]
    },
    {
     "name": "stdin",
     "output_type": "stream",
     "text": [
      "Choose an option (1-4):  2\n",
      "Enter a new task:  learn python\n"
     ]
    },
    {
     "name": "stdout",
     "output_type": "stream",
     "text": [
      "Task added.\n",
      "\n",
      "To-Do List Menu:\n",
      "1. Show tasks\n",
      "2. Add task\n",
      "3. Delete task\n",
      "4. Exit\n"
     ]
    },
    {
     "name": "stdin",
     "output_type": "stream",
     "text": [
      "Choose an option (1-4):  1\n"
     ]
    },
    {
     "name": "stdout",
     "output_type": "stream",
     "text": [
      "\n",
      "Your Tasks:\n",
      "1. learn python\n",
      "\n",
      "To-Do List Menu:\n",
      "1. Show tasks\n",
      "2. Add task\n",
      "3. Delete task\n",
      "4. Exit\n"
     ]
    },
    {
     "name": "stdin",
     "output_type": "stream",
     "text": [
      "Choose an option (1-4):  3\n"
     ]
    },
    {
     "name": "stdout",
     "output_type": "stream",
     "text": [
      "1. learn python\n"
     ]
    },
    {
     "name": "stdin",
     "output_type": "stream",
     "text": [
      "Enter task number to delete:  1\n"
     ]
    },
    {
     "name": "stdout",
     "output_type": "stream",
     "text": [
      "Removed: learn python\n",
      "\n",
      "To-Do List Menu:\n",
      "1. Show tasks\n",
      "2. Add task\n",
      "3. Delete task\n",
      "4. Exit\n"
     ]
    },
    {
     "name": "stdin",
     "output_type": "stream",
     "text": [
      "Choose an option (1-4):  1\n"
     ]
    },
    {
     "name": "stdout",
     "output_type": "stream",
     "text": [
      "\n",
      "No tasks found.\n",
      "\n",
      "To-Do List Menu:\n",
      "1. Show tasks\n",
      "2. Add task\n",
      "3. Delete task\n",
      "4. Exit\n"
     ]
    },
    {
     "name": "stdin",
     "output_type": "stream",
     "text": [
      "Choose an option (1-4):  4\n"
     ]
    },
    {
     "name": "stdout",
     "output_type": "stream",
     "text": [
      "Goodbye!\n"
     ]
    }
   ],
   "source": [
    "FILENAME = \"todo_data.txt\"\n",
    "def read_tasks():\n",
    "    try:\n",
    "        with open(FILENAME, \"r\") as f:\n",
    "            return [line.strip() for line in f.readlines()]\n",
    "    except FileNotFoundError:\n",
    "        return []\n",
    "def write_tasks(task_list):\n",
    "    with open(FILENAME, \"w\") as f:\n",
    "        for task in task_list:\n",
    "            f.write(task + \"\\n\")\n",
    "def show_menu():\n",
    "    print(\"\\nTo-Do List Menu:\")\n",
    "    print(\"1. Show tasks\")\n",
    "    print(\"2. Add task\")\n",
    "    print(\"3. Delete task\")\n",
    "    print(\"4. Exit\")\n",
    "def todo_app():\n",
    "    tasks = read_tasks()\n",
    "\n",
    "    while True:\n",
    "        show_menu()\n",
    "        choice = input(\"Choose an option (1-4): \").strip()\n",
    "\n",
    "        if choice == '1':\n",
    "            if tasks:\n",
    "                print(\"\\nYour Tasks:\")\n",
    "                for idx, task in enumerate(tasks, 1):\n",
    "                    print(f\"{idx}. {task}\")\n",
    "            else:\n",
    "                print(\"\\nNo tasks found.\")\n",
    "\n",
    "        elif choice == '2':\n",
    "            new_task = input(\"Enter a new task: \").strip()\n",
    "            if new_task:\n",
    "                tasks.append(new_task)\n",
    "                write_tasks(tasks)\n",
    "                print(\"Task added.\")\n",
    "            else:\n",
    "                print(\"Task cannot be empty.\")\n",
    "\n",
    "        elif choice == '3':\n",
    "            if tasks:\n",
    "                for idx, task in enumerate(tasks, 1):\n",
    "                    print(f\"{idx}. {task}\")\n",
    "                try:\n",
    "                    remove_index = int(input(\"Enter task number to delete: \"))\n",
    "                    if 1 <= remove_index <= len(tasks):\n",
    "                        removed = tasks.pop(remove_index - 1)\n",
    "                        write_tasks(tasks)\n",
    "                        print(f\"Removed: {removed}\")\n",
    "                    else:\n",
    "                        print(\"Invalid task number.\")\n",
    "                except ValueError:\n",
    "                    print(\"Please enter a valid number.\")\n",
    "            else:\n",
    "                print(\"No tasks to delete.\")\n",
    "\n",
    "        elif choice == '4':\n",
    "            print(\"Goodbye!\")\n",
    "            break\n",
    "        else:\n",
    "            print(\"Invalid option. Choose between 1 to 4.\")\n",
    "\n",
    "if __name__ == \"__main__\":\n",
    "    todo_app()"
   ]
  },
  {
   "cell_type": "code",
   "execution_count": null,
   "id": "2892d9aa-5e1a-4630-86ed-4b40d9f4274c",
   "metadata": {},
   "outputs": [],
   "source": []
  }
 ],
 "metadata": {
  "kernelspec": {
   "display_name": "Python 3 (ipykernel)",
   "language": "python",
   "name": "python3"
  },
  "language_info": {
   "codemirror_mode": {
    "name": "ipython",
    "version": 3
   },
   "file_extension": ".py",
   "mimetype": "text/x-python",
   "name": "python",
   "nbconvert_exporter": "python",
   "pygments_lexer": "ipython3",
   "version": "3.13.5"
  }
 },
 "nbformat": 4,
 "nbformat_minor": 5
}
